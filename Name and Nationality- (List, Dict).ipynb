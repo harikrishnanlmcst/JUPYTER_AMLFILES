{
 "cells": [
  {
   "cell_type": "code",
   "execution_count": 1,
   "id": "1e0bd175",
   "metadata": {},
   "outputs": [],
   "source": [
    "import pandas as pd"
   ]
  },
  {
   "cell_type": "code",
   "execution_count": 8,
   "id": "85dd0196",
   "metadata": {},
   "outputs": [],
   "source": [
    "data = pd.read_csv(r\"C:\\Users\\vickr\\OneDrive\\Desktop\\MAJOR _PROJECT\\DATASET\\namelist.csv\")\n"
   ]
  },
  {
   "cell_type": "code",
   "execution_count": 9,
   "id": "9ef137c7",
   "metadata": {},
   "outputs": [
    {
     "data": {
      "text/html": [
       "<div>\n",
       "<style scoped>\n",
       "    .dataframe tbody tr th:only-of-type {\n",
       "        vertical-align: middle;\n",
       "    }\n",
       "\n",
       "    .dataframe tbody tr th {\n",
       "        vertical-align: top;\n",
       "    }\n",
       "\n",
       "    .dataframe thead th {\n",
       "        text-align: right;\n",
       "    }\n",
       "</style>\n",
       "<table border=\"1\" class=\"dataframe\">\n",
       "  <thead>\n",
       "    <tr style=\"text-align: right;\">\n",
       "      <th></th>\n",
       "      <th>fname</th>\n",
       "      <th>nationality</th>\n",
       "      <th>dob</th>\n",
       "      <th>gender</th>\n",
       "      <th>id</th>\n",
       "      <th>cust_ref_id</th>\n",
       "    </tr>\n",
       "  </thead>\n",
       "  <tbody>\n",
       "    <tr>\n",
       "      <th>0</th>\n",
       "      <td>MAKHTAB KHIDAMAT</td>\n",
       "      <td>\\N</td>\n",
       "      <td>\\N</td>\n",
       "      <td>\\N</td>\n",
       "      <td>14952</td>\n",
       "      <td>DIGI218#14952</td>\n",
       "    </tr>\n",
       "    <tr>\n",
       "      <th>1</th>\n",
       "      <td>MAKHTAB AL-KHIDAMAT</td>\n",
       "      <td>\\N</td>\n",
       "      <td>\\N</td>\n",
       "      <td>\\N</td>\n",
       "      <td>14951</td>\n",
       "      <td>DIGI239#14951</td>\n",
       "    </tr>\n",
       "    <tr>\n",
       "      <th>2</th>\n",
       "      <td>dawood</td>\n",
       "      <td>NaN</td>\n",
       "      <td>13-05-1965</td>\n",
       "      <td>Male</td>\n",
       "      <td>14950</td>\n",
       "      <td>Trustin-1710403262691</td>\n",
       "    </tr>\n",
       "    <tr>\n",
       "      <th>3</th>\n",
       "      <td>Shaykh</td>\n",
       "      <td>IRAN</td>\n",
       "      <td>13-05-1943</td>\n",
       "      <td>Male</td>\n",
       "      <td>14943</td>\n",
       "      <td>Trustin-1710400558689</td>\n",
       "    </tr>\n",
       "    <tr>\n",
       "      <th>4</th>\n",
       "      <td>Parvez</td>\n",
       "      <td>INDIA</td>\n",
       "      <td>01-03-1977</td>\n",
       "      <td>Male</td>\n",
       "      <td>14936</td>\n",
       "      <td>Trustin-1710361855935</td>\n",
       "    </tr>\n",
       "  </tbody>\n",
       "</table>\n",
       "</div>"
      ],
      "text/plain": [
       "                 fname nationality         dob gender     id  \\\n",
       "0     MAKHTAB KHIDAMAT          \\N          \\N     \\N  14952   \n",
       "1  MAKHTAB AL-KHIDAMAT          \\N          \\N     \\N  14951   \n",
       "2               dawood         NaN  13-05-1965   Male  14950   \n",
       "3               Shaykh        IRAN  13-05-1943   Male  14943   \n",
       "4               Parvez       INDIA  01-03-1977   Male  14936   \n",
       "\n",
       "             cust_ref_id  \n",
       "0          DIGI218#14952  \n",
       "1          DIGI239#14951  \n",
       "2  Trustin-1710403262691  \n",
       "3  Trustin-1710400558689  \n",
       "4  Trustin-1710361855935  "
      ]
     },
     "execution_count": 9,
     "metadata": {},
     "output_type": "execute_result"
    }
   ],
   "source": [
    "data.head()"
   ]
  },
  {
   "cell_type": "code",
   "execution_count": 11,
   "id": "da132e03",
   "metadata": {},
   "outputs": [],
   "source": [
    "names_list = data['fname'].str.split().str[0].tolist()"
   ]
  },
  {
   "cell_type": "code",
   "execution_count": 13,
   "id": "3997e669",
   "metadata": {},
   "outputs": [
    {
     "name": "stdout",
     "output_type": "stream",
     "text": [
      "['MAKHTAB', 'MAKHTAB', 'dawood', 'Shaykh', 'Parvez', 'Naidu', 'Parvez', 'MAHAD', 'ANTHONY', 'Anil', 'Ismatullah', 'Alaa', 'ibrahim', 'ibrahim', 'MUHAMMAD', 'PAVEL', 'Fahad', 'Abdulaziz', 'Sultan', 'HASSAN', 'ABDUL', 'ABDUL', 'ibrahim', 'ibrahim', 'ibrahim', 'Sultan', 'Abdulaziz', 'sanjay', 'reliable', 'hamza', 'Fazal', 'Tata', 'Tata', 'Muhammad', 'Ibrahim', 'fazal', 'Casey', 'Ramesh', 'Casey', 'Casey', 'muhammed', 'muhammed', 'APOLLINAIRE', 'alcotech', 'YUSUF', 'AMADOU', 'muhammad', 'fazal', 'Fazal', 'Nara', 'Nara', 'ZOOM', 'state', 'satish', 'ZARA', 'state', 'ZOOM', 'ayub', 'donlad', 'Anand', 'Wave', 'dawood', 'trump', 'Parent']\n"
     ]
    }
   ],
   "source": [
    "print(names_list)"
   ]
  },
  {
   "cell_type": "code",
   "execution_count": 14,
   "id": "03fb0e1e",
   "metadata": {},
   "outputs": [
    {
     "name": "stdout",
     "output_type": "stream",
     "text": [
      "{'MAKHTAB': '\\\\N', 'dawood': 'INDIA', 'Shaykh': 'IRAN', 'Parvez': 'INDIA', 'Naidu': 'INDIA', 'MAHAD': '\\\\N', 'ANTHONY': '\\\\N', 'Anil': 'INDIA', 'Ismatullah': '\\\\N', 'Alaa': '\\\\N', 'ibrahim': '\\\\N', 'MUHAMMAD': nan, 'PAVEL': 'RUSSIAN FEDERATION', 'Fahad': 'SAUDI ARABIA', 'Abdulaziz': 'SAUDI ARABIA', 'Sultan': 'SAUDI ARABIA', 'HASSAN': 'UNITED ARAB EMIRATES', 'ABDUL': 'INDIA', 'sanjay': 'INDIA', 'reliable': 'UNITED ARAB EMIRATES', 'hamza': 'PAKISTAN', 'Fazal': '\\\\N', 'Tata': 'UNITED ARAB EMIRATES', 'Muhammad': nan, 'Ibrahim': 'INDIA', 'fazal': 'AFGHANISTAN', 'Casey': 'UNITED STATES', 'Ramesh': 'INDIA', 'muhammed': 'AFGHANISTAN', 'APOLLINAIRE': 'RWANDA', 'alcotech': '\\\\N', 'YUSUF': '\\\\N', 'AMADOU': '\\\\N', 'muhammad': 'INDIA', 'Nara': '\\\\N', 'ZOOM': 'UNITED ARAB EMIRATES', 'state': 'UNITED ARAB EMIRATES', 'satish': '0', 'ZARA': '\\\\N', 'ayub': 'AFGHANISTAN', 'donlad': 'UNITED STATES', 'Anand': 'INDIA', 'Wave': '\\\\N', 'trump': 'UNITED STATES', 'Parent': 'Belgium'}\n"
     ]
    }
   ],
   "source": [
    "name_nationality_dict = {}\n",
    "\n",
    "\n",
    "for index, row in data.iterrows():\n",
    "    name = row['fname'].split()[0]\n",
    "    nationality = row['nationality']\n",
    "    name_nationality_dict[name] = nationality\n",
    "\n",
    "\n",
    "print(name_nationality_dict)\n"
   ]
  },
  {
   "cell_type": "code",
   "execution_count": null,
   "id": "a65d6876",
   "metadata": {},
   "outputs": [],
   "source": []
  }
 ],
 "metadata": {
  "kernelspec": {
   "display_name": "Python 3 (ipykernel)",
   "language": "python",
   "name": "python3"
  },
  "language_info": {
   "codemirror_mode": {
    "name": "ipython",
    "version": 3
   },
   "file_extension": ".py",
   "mimetype": "text/x-python",
   "name": "python",
   "nbconvert_exporter": "python",
   "pygments_lexer": "ipython3",
   "version": "3.11.5"
  }
 },
 "nbformat": 4,
 "nbformat_minor": 5
}
